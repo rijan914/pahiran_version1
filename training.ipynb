{
 "cells": [
  {
   "cell_type": "code",
   "execution_count": 13,
   "metadata": {},
   "outputs": [],
   "source": [
    "%run \"/Users/rijanbhandari/COLLEGE/sixthsem/minorproject/Pahiran/RESTART/training_module.ipynb\""
   ]
  },
  {
   "cell_type": "code",
   "execution_count": 14,
   "metadata": {},
   "outputs": [],
   "source": [
    "\n",
    "import os\n",
    "import tensorflow as tf\n",
    "from tensorflow import keras\n",
    "from tensorflow.keras.preprocessing import image\n",
    "from tensorflow.keras.preprocessing.image import ImageDataGenerator\n",
    "\n",
    "import tensorflow as tf\n",
    "from tensorflow.keras import layers\n",
    "from tensorflow.keras import losses\n",
    "from tensorflow import keras\n",
    "\n",
    "from tensorflow.keras.preprocessing import image\n",
    "\n",
    "from tensorflow.keras.layers.experimental.preprocessing import TextVectorization\n",
    "from tensorflow.keras.layers.experimental.preprocessing import StringLookup\n",
    "\n",
    "from sklearn.model_selection import train_test_split\n",
    "from sklearn.preprocessing import LabelEncoder\n",
    "\n",
    "import numpy as np\n",
    "import matplotlib.pyplot as plt\n",
    "import pandas as pd"
   ]
  },
  {
   "cell_type": "code",
   "execution_count": 15,
   "metadata": {},
   "outputs": [],
   "source": [
    "import cv2\n",
    "\n",
    "import matplotlib.image as mpimg"
   ]
  },
  {
   "cell_type": "code",
   "execution_count": 16,
   "metadata": {},
   "outputs": [
    {
     "data": {
      "text/plain": [
       "array(['Topwear', 'Bottomwear', 'Footwear'], dtype=object)"
      ]
     },
     "execution_count": 16,
     "metadata": {},
     "output_type": "execute_result"
    }
   ],
   "source": [
    "\n",
    "styles = get_df()\n",
    "\n",
    "styles[\"subCategory\"].unique() # we can check by this code that we only have three subcategory now.\n"
   ]
  },
  {
   "cell_type": "code",
   "execution_count": null,
   "metadata": {},
   "outputs": [],
   "source": []
  },
  {
   "cell_type": "code",
   "execution_count": 17,
   "metadata": {},
   "outputs": [
    {
     "data": {
      "text/plain": [
       "array(['Bottomwear', 'Footwear', 'Topwear'], dtype=object)"
      ]
     },
     "execution_count": 17,
     "metadata": {},
     "output_type": "execute_result"
    }
   ],
   "source": [
    "\n",
    "le = LabelEncoder()\n",
    "#\n",
    "styles[\"subCategory\"] = le.fit_transform(styles[\"subCategory\"])\n",
    "\n",
    "styles.head()\n",
    "\n",
    "le.classes_\n",
    "\n"
   ]
  },
  {
   "cell_type": "code",
   "execution_count": 18,
   "metadata": {},
   "outputs": [
    {
     "name": "stdout",
     "output_type": "stream",
     "text": [
      "Error reading image '/Users/rijanbhandari/COLLEGE/sixthsem/minorproject/Pahiran/Miniversion/smalldataset/images/28492.jpg': Invalid shape\n",
      "Error reading image '/Users/rijanbhandari/COLLEGE/sixthsem/minorproject/Pahiran/Miniversion/smalldataset/images/14776.jpg': Invalid shape\n",
      "Error reading image '/Users/rijanbhandari/COLLEGE/sixthsem/minorproject/Pahiran/Miniversion/smalldataset/images/5408.jpg': Invalid shape\n",
      "Error reading image '/Users/rijanbhandari/COLLEGE/sixthsem/minorproject/Pahiran/Miniversion/smalldataset/images/1799.jpg': Invalid shape\n",
      "Error reading image '/Users/rijanbhandari/COLLEGE/sixthsem/minorproject/Pahiran/Miniversion/smalldataset/images/2311.jpg': Invalid shape\n",
      "Error reading image '/Users/rijanbhandari/COLLEGE/sixthsem/minorproject/Pahiran/Miniversion/smalldataset/images/10284.jpg': Invalid shape\n",
      "Model: \"model\"\n",
      "_________________________________________________________________\n",
      " Layer (type)                Output Shape              Param #   \n",
      "=================================================================\n",
      " images (InputLayer)         [(None, 80, 60, 3)]       0         \n",
      "                                                                 \n",
      " resnet101 (Functional)      (None, 3, 2, 2048)        42658176  \n",
      "                                                                 \n",
      " conv2d (Conv2D)             (None, 2, 1, 32)          262176    \n",
      "                                                                 \n",
      " flatten_2 (Flatten)         (None, 64)                0         \n",
      "                                                                 \n",
      " dense_2 (Dense)             (None, 1024)              66560     \n",
      "                                                                 \n",
      " dense_3 (Dense)             (None, 512)               524800    \n",
      "                                                                 \n",
      " dense_4 (Dense)             (None, 256)               131328    \n",
      "                                                                 \n",
      " dense_5 (Dense)             (None, 128)               32896     \n",
      "                                                                 \n",
      " dense_6 (Dense)             (None, 64)                8256      \n",
      "                                                                 \n",
      " dense_7 (Dense)             (None, 3)                 195       \n",
      "                                                                 \n",
      " subCategory (Activation)    (None, 3)                 0         \n",
      "                                                                 \n",
      "=================================================================\n",
      "Total params: 43684387 (166.64 MB)\n",
      "Trainable params: 1026211 (3.91 MB)\n",
      "Non-trainable params: 42658176 (162.73 MB)\n",
      "_________________________________________________________________\n"
     ]
    }
   ],
   "source": [
    "\n",
    "# styles, articleTypeLB, genderLB, baseColourLB, seasonLB, usageLB = my_le(styles)\n",
    "\n",
    "sub_train,sub_val,sub_test=make_input_xx(make_input_array_subcate(styles))\n",
    "sub_model = building_model(80,60)\n",
    "sub_model.summary()\n",
    "\n"
   ]
  },
  {
   "cell_type": "code",
   "execution_count": 19,
   "metadata": {},
   "outputs": [
    {
     "data": {
      "image/png": "[encoded data removed]",
      "text/plain": [
       "<IPython.core.display.Image object>"
      ]
     },
     "execution_count": 19,
     "metadata": {},
     "output_type": "execute_result"
    }
   ],
   "source": [
    "from tensorflow.keras.utils import plot_model\n",
    "plot_model(sub_model)"
   ]
  },
  {
   "cell_type": "code",
   "execution_count": 20,
   "metadata": {},
   "outputs": [
    {
     "name": "stdout",
     "output_type": "stream",
     "text": [
      "Epoch 1/10\n"
     ]
    },
    {
     "name": "stderr",
     "output_type": "stream",
     "text": [
      "/Users/rijanbhandari/COLLEGE/sixthsem/minorproject/Pahiran/environment/lib/python3.10/site-packages/keras/src/backend.py:5727: UserWarning: \"`sparse_categorical_crossentropy` received `from_logits=True`, but the `output` argument was produced by a Softmax activation and thus does not represent logits. Was this intended?\n",
      "  output, from_logits = _get_logits(\n"
     ]
    },
    {
     "name": "stdout",
     "output_type": "stream",
     "text": [
      "2000/2000 [==============================] - 177s 87ms/step - loss: 0.2400 - accuracy: 0.9582 - val_loss: 0.1101 - val_accuracy: 0.9705\n",
      "Epoch 2/10\n",
      "2000/2000 [==============================] - 166s 83ms/step - loss: 0.1785 - accuracy: 0.9735 - val_loss: 0.0559 - val_accuracy: 0.9850\n",
      "Epoch 3/10\n",
      "2000/2000 [==============================] - 164s 82ms/step - loss: 0.1342 - accuracy: 0.9860 - val_loss: 0.0787 - val_accuracy: 0.9906\n",
      "Epoch 4/10\n",
      "2000/2000 [==============================] - 170s 85ms/step - loss: 0.0689 - accuracy: 0.9852 - val_loss: 0.0448 - val_accuracy: 0.9919\n",
      "Epoch 5/10\n",
      " 177/2000 [=>............................] - ETA: 1:06 - loss: 0.0305 - accuracy: 0.9887WARNING:tensorflow:Your input ran out of data; interrupting training. Make sure that your dataset or generator can generate at least `steps_per_epoch * epochs` batches (in this case, 20000 batches). You may need to use the repeat() function when building your dataset.\n",
      "2000/2000 [==============================] - 123s 61ms/step - loss: 0.0304 - accuracy: 0.9887 - val_loss: 0.0502 - val_accuracy: 0.9908\n",
      "INFO:tensorflow:Assets written to: /Users/rijanbhandari/COLLEGE/sixthsem/minorproject/Pahiran/RESTART/model/model_sub/assets\n"
     ]
    },
    {
     "name": "stderr",
     "output_type": "stream",
     "text": [
      "INFO:tensorflow:Assets written to: /Users/rijanbhandari/COLLEGE/sixthsem/minorproject/Pahiran/RESTART/model/model_sub/assets\n",
      "/Users/rijanbhandari/COLLEGE/sixthsem/minorproject/Pahiran/environment/lib/python3.10/site-packages/keras/src/backend.py:5727: UserWarning: \"`sparse_categorical_crossentropy` received `from_logits=True`, but the `output` argument was produced by a Softmax activation and thus does not represent logits. Was this intended?\n",
      "  output, from_logits = _get_logits(\n"
     ]
    },
    {
     "name": "stdout",
     "output_type": "stream",
     "text": [
      "2727/2727 [==============================] - 92s 33ms/step - loss: 0.0777 - accuracy: 0.9910\n"
     ]
    },
    {
     "data": {
      "text/plain": [
       "[0.07770869135856628, 0.9910141229629517]"
      ]
     },
     "execution_count": 20,
     "metadata": {},
     "output_type": "execute_result"
    }
   ],
   "source": [
    "from tensorflow.keras.utils import plot_model\n",
    "plot_model(sub_model)\n",
    "sub_model.compile(optimizer='adam',\n",
    "              loss=tf.keras.losses.SparseCategoricalCrossentropy(from_logits=True),\n",
    "              metrics=['accuracy'])\n",
    "\n",
    "sub_history = sub_model.fit(sub_train, \n",
    "                    epochs=10, \n",
    "                    steps_per_epoch = 2000,\n",
    "                    validation_data = sub_val)\n",
    "\n",
    "sub_model.save(\"/Users/rijanbhandari/COLLEGE/sixthsem/minorproject/Pahiran/RESTART/model/model_sub\")\n",
    "\n",
    "test_model = tf.keras.models.load_model(\"/Users/rijanbhandari/COLLEGE/sixthsem/minorproject/Pahiran/RESTART/model/model_sub\")\n",
    "\n",
    "test_model.evaluate(sub_test)"
   ]
  },
  {
   "cell_type": "code",
   "execution_count": null,
   "metadata": {},
   "outputs": [],
   "source": []
  },
  {
   "cell_type": "code",
   "execution_count": null,
   "metadata": {},
   "outputs": [],
   "source": []
  },
  {
   "cell_type": "code",
   "execution_count": 21,
   "metadata": {},
   "outputs": [],
   "source": [
    "\n",
    "top_df = get_234_df(\"Topwear\")\n",
    "bottom_df = get_234_df(\"Bottomwear\")\n",
    "foot_df = get_234_df(\"Footwear\")\n",
    "top_df,top_art,top_gen,top_base,top_sea,top_usage = my_le(top_df)\n",
    "bottom_df,bottom_art,bottom_gen,bottom_base,bottom_sea,bottom_usage = my_le(bottom_df)\n",
    "foot_df,foot_art,foot_gen,foot_base,foot_sea,foot_usage = my_le(foot_df)\n",
    "foot_usage.classes_\n",
    "\n",
    "top_base_model = build_model(80,60,top_art,top_gen,top_base,top_sea,top_usage)\n",
    "bottom_base_model = build_model(80,60,bottom_art,bottom_gen,bottom_base,bottom_sea,bottom_usage)\n",
    "foot_base_model = build_model(80,60,foot_art,foot_gen,foot_base,foot_sea,foot_usage)\n"
   ]
  },
  {
   "cell_type": "code",
   "execution_count": 22,
   "metadata": {},
   "outputs": [],
   "source": [
    "top_train, top_val, top_test = make_input_xx(make_input_array_2(top_df))\n"
   ]
  },
  {
   "cell_type": "code",
   "execution_count": 23,
   "metadata": {},
   "outputs": [],
   "source": [
    "bottom_train, bottom_val, bottom_test = make_input_xx(make_input_array_2(bottom_df))\n"
   ]
  },
  {
   "cell_type": "code",
   "execution_count": 24,
   "metadata": {},
   "outputs": [
    {
     "name": "stdout",
     "output_type": "stream",
     "text": [
      "Error processing image 10284: Failed to load image at path: /Users/rijanbhandari/COLLEGE/sixthsem/minorproject/Pahiran/Miniversion/smalldataset/images/10284.jpg\n"
     ]
    }
   ],
   "source": [
    "foot_train, foot_val, foot_test = make_input_xx(make_input_array_2(foot_df))\n"
   ]
  },
  {
   "cell_type": "code",
   "execution_count": null,
   "metadata": {},
   "outputs": [],
   "source": []
  },
  {
   "cell_type": "code",
   "execution_count": 25,
   "metadata": {},
   "outputs": [],
   "source": [
    "import tensorflow.keras as keras\n",
    "from kerastuner import RandomSearch\n",
    "\n",
    "def build_model(hp):\n",
    "    # Use the same architecture as your original model\n",
    "    res101 = keras.applications.ResNet101(weights='imagenet', include_top=False, input_shape=(80, 60, 3))\n",
    "    res101.trainable = False\n",
    "    inputs = keras.Input(shape=(80, 60,3),name=\"images\")\n",
    "    x = res101(inputs, training=False)\n",
    "    x = layers.Flatten()(x)\n",
    "    x = layers.Dense(hp.Int('dense_units', min_value=32, max_value=512, step=32), activation='relu')(x)\n",
    "    # ... rest of your model architecture ...\n",
    "\n",
    "    model.compile(optimizer=keras.optimizers.Adam(hp.Choice('learning_rate', values=[1e-2, 1e-3, 1e-4])),\n",
    "                  loss=tf.keras.losses.SparseCategoricalCrossentropy(from_logits=True),\n",
    "                  metrics=['accuracy'])\n",
    "    return model\n"
   ]
  },
  {
   "cell_type": "code",
   "execution_count": 26,
   "metadata": {},
   "outputs": [
    {
     "name": "stdout",
     "output_type": "stream",
     "text": [
      "Error processing image 10284: Failed to load image at path: /Users/rijanbhandari/COLLEGE/sixthsem/minorproject/Pahiran/Miniversion/smalldataset/images/10284.jpg\n",
      "Epoch 1/10\n"
     ]
    },
    {
     "name": "stderr",
     "output_type": "stream",
     "text": [
      "/Users/rijanbhandari/COLLEGE/sixthsem/minorproject/Pahiran/environment/lib/python3.10/site-packages/keras/src/backend.py:5727: UserWarning: \"`sparse_categorical_crossentropy` received `from_logits=True`, but the `output` argument was produced by a Softmax activation and thus does not represent logits. Was this intended?\n",
      "  output, from_logits = _get_logits(\n"
     ]
    },
    {
     "name": "stdout",
     "output_type": "stream",
     "text": [
      "500/500 [==============================] - 81s 156ms/step - loss: 6.8932 - articleType_loss: 1.6194 - gender_loss: 0.7615 - baseColour_loss: 2.5967 - season_loss: 0.9354 - usage_loss: 0.9802 - articleType_accuracy: 0.5670 - gender_accuracy: 0.7670 - baseColour_accuracy: 0.2000 - season_accuracy: 0.5520 - usage_accuracy: 0.7280 - val_loss: 6.4762 - val_articleType_loss: 1.4227 - val_gender_loss: 0.4593 - val_baseColour_loss: 2.5736 - val_season_loss: 1.2650 - val_usage_loss: 0.7556 - val_articleType_accuracy: 0.6294 - val_gender_accuracy: 0.8495 - val_baseColour_accuracy: 0.1362 - val_season_accuracy: 0.4103 - val_usage_accuracy: 0.7685\n",
      "Epoch 2/10\n",
      "500/500 [==============================] - 81s 162ms/step - loss: 5.4441 - articleType_loss: 1.1437 - gender_loss: 0.5039 - baseColour_loss: 2.2892 - season_loss: 0.8092 - usage_loss: 0.6981 - articleType_accuracy: 0.6750 - gender_accuracy: 0.8260 - baseColour_accuracy: 0.2750 - season_accuracy: 0.6070 - usage_accuracy: 0.7730 - val_loss: 5.2076 - val_articleType_loss: 1.0360 - val_gender_loss: 0.4160 - val_baseColour_loss: 2.1071 - val_season_loss: 0.7980 - val_usage_loss: 0.8505 - val_articleType_accuracy: 0.7295 - val_gender_accuracy: 0.8664 - val_baseColour_accuracy: 0.3010 - val_season_accuracy: 0.5832 - val_usage_accuracy: 0.7585\n",
      "Epoch 3/10\n",
      "500/500 [==============================] - 79s 159ms/step - loss: 4.8724 - articleType_loss: 1.0817 - gender_loss: 0.3873 - baseColour_loss: 2.0312 - season_loss: 0.8105 - usage_loss: 0.5618 - articleType_accuracy: 0.6800 - gender_accuracy: 0.8690 - baseColour_accuracy: 0.3320 - season_accuracy: 0.5690 - usage_accuracy: 0.8030 - val_loss: 4.6634 - val_articleType_loss: 0.9127 - val_gender_loss: 0.4432 - val_baseColour_loss: 2.0346 - val_season_loss: 0.8153 - val_usage_loss: 0.4575 - val_articleType_accuracy: 0.7360 - val_gender_accuracy: 0.8599 - val_baseColour_accuracy: 0.3579 - val_season_accuracy: 0.6232 - val_usage_accuracy: 0.8586\n",
      "Epoch 4/10\n",
      "500/500 [==============================] - 83s 166ms/step - loss: 4.6420 - articleType_loss: 0.9579 - gender_loss: 0.3931 - baseColour_loss: 1.9450 - season_loss: 0.7966 - usage_loss: 0.5495 - articleType_accuracy: 0.7160 - gender_accuracy: 0.8740 - baseColour_accuracy: 0.3940 - season_accuracy: 0.6220 - usage_accuracy: 0.8360 - val_loss: 4.2011 - val_articleType_loss: 0.8966 - val_gender_loss: 0.2623 - val_baseColour_loss: 1.7902 - val_season_loss: 0.7797 - val_usage_loss: 0.4723 - val_articleType_accuracy: 0.7110 - val_gender_accuracy: 0.9112 - val_baseColour_accuracy: 0.4603 - val_season_accuracy: 0.5917 - val_usage_accuracy: 0.8449\n",
      "Epoch 5/10\n",
      "500/500 [==============================] - 84s 167ms/step - loss: 4.5672 - articleType_loss: 1.0298 - gender_loss: 0.3258 - baseColour_loss: 1.8520 - season_loss: 0.7900 - usage_loss: 0.5695 - articleType_accuracy: 0.7040 - gender_accuracy: 0.8810 - baseColour_accuracy: 0.4270 - season_accuracy: 0.5830 - usage_accuracy: 0.8200 - val_loss: 4.2737 - val_articleType_loss: 0.8758 - val_gender_loss: 0.4372 - val_baseColour_loss: 1.7241 - val_season_loss: 0.7760 - val_usage_loss: 0.4606 - val_articleType_accuracy: 0.7172 - val_gender_accuracy: 0.9018 - val_baseColour_accuracy: 0.4467 - val_season_accuracy: 0.6164 - val_usage_accuracy: 0.8459\n",
      "Epoch 6/10\n",
      "500/500 [==============================] - 80s 161ms/step - loss: 4.2390 - articleType_loss: 0.8997 - gender_loss: 0.3188 - baseColour_loss: 1.7221 - season_loss: 0.7876 - usage_loss: 0.5108 - articleType_accuracy: 0.7440 - gender_accuracy: 0.8930 - baseColour_accuracy: 0.4940 - season_accuracy: 0.6010 - usage_accuracy: 0.8410 - val_loss: 4.7717 - val_articleType_loss: 1.1278 - val_gender_loss: 0.5840 - val_baseColour_loss: 1.7974 - val_season_loss: 0.7564 - val_usage_loss: 0.5060 - val_articleType_accuracy: 0.6707 - val_gender_accuracy: 0.8563 - val_baseColour_accuracy: 0.4711 - val_season_accuracy: 0.6105 - val_usage_accuracy: 0.8153\n",
      "Epoch 7/10\n",
      "500/500 [==============================] - 79s 157ms/step - loss: 4.2202 - articleType_loss: 0.8206 - gender_loss: 0.2947 - baseColour_loss: 1.8011 - season_loss: 0.8108 - usage_loss: 0.4928 - articleType_accuracy: 0.7480 - gender_accuracy: 0.9020 - baseColour_accuracy: 0.4570 - season_accuracy: 0.5790 - usage_accuracy: 0.8500 - val_loss: 3.9628 - val_articleType_loss: 0.8209 - val_gender_loss: 0.2757 - val_baseColour_loss: 1.6473 - val_season_loss: 0.8224 - val_usage_loss: 0.3965 - val_articleType_accuracy: 0.7555 - val_gender_accuracy: 0.9041 - val_baseColour_accuracy: 0.4860 - val_season_accuracy: 0.4369 - val_usage_accuracy: 0.8622\n",
      "Epoch 8/10\n",
      "500/500 [==============================] - 79s 157ms/step - loss: 4.2059 - articleType_loss: 0.9239 - gender_loss: 0.3321 - baseColour_loss: 1.6987 - season_loss: 0.7699 - usage_loss: 0.4813 - articleType_accuracy: 0.7450 - gender_accuracy: 0.8840 - baseColour_accuracy: 0.4660 - season_accuracy: 0.6110 - usage_accuracy: 0.8370 - val_loss: 4.0335 - val_articleType_loss: 0.8824 - val_gender_loss: 0.2598 - val_baseColour_loss: 1.5239 - val_season_loss: 0.8384 - val_usage_loss: 0.5290 - val_articleType_accuracy: 0.7357 - val_gender_accuracy: 0.9135 - val_baseColour_accuracy: 0.5228 - val_season_accuracy: 0.5894 - val_usage_accuracy: 0.8199\n",
      "Epoch 9/10\n",
      "500/500 [==============================] - 82s 163ms/step - loss: 3.9918 - articleType_loss: 0.8794 - gender_loss: 0.3032 - baseColour_loss: 1.5531 - season_loss: 0.7686 - usage_loss: 0.4874 - articleType_accuracy: 0.7650 - gender_accuracy: 0.9130 - baseColour_accuracy: 0.5300 - season_accuracy: 0.6010 - usage_accuracy: 0.8460 - val_loss: 3.7993 - val_articleType_loss: 0.8003 - val_gender_loss: 0.2545 - val_baseColour_loss: 1.5989 - val_season_loss: 0.7909 - val_usage_loss: 0.3547 - val_articleType_accuracy: 0.7507 - val_gender_accuracy: 0.9168 - val_baseColour_accuracy: 0.5000 - val_season_accuracy: 0.6206 - val_usage_accuracy: 0.8882\n",
      "Epoch 10/10\n",
      "114/500 [=====>........................] - ETA: 19s - loss: 4.3831 - articleType_loss: 0.9444 - gender_loss: 0.3125 - baseColour_loss: 1.7805 - season_loss: 0.7918 - usage_loss: 0.5539 - articleType_accuracy: 0.7368 - gender_accuracy: 0.9167 - baseColour_accuracy: 0.4430 - season_accuracy: 0.5965 - usage_accuracy: 0.8684WARNING:tensorflow:Your input ran out of data; interrupting training. Make sure that your dataset or generator can generate at least `steps_per_epoch * epochs` batches (in this case, 5000 batches). You may need to use the repeat() function when building your dataset.\n"
     ]
    },
    {
     "name": "stderr",
     "output_type": "stream",
     "text": [
      "WARNING:tensorflow:Your input ran out of data; interrupting training. Make sure that your dataset or generator can generate at least `steps_per_epoch * epochs` batches (in this case, 5000 batches). You may need to use the repeat() function when building your dataset.\n"
     ]
    },
    {
     "name": "stdout",
     "output_type": "stream",
     "text": [
      "500/500 [==============================] - 57s 115ms/step - loss: 4.3796 - articleType_loss: 0.9405 - gender_loss: 0.3111 - baseColour_loss: 1.7843 - season_loss: 0.7916 - usage_loss: 0.5521 - articleType_accuracy: 0.7380 - gender_accuracy: 0.9170 - baseColour_accuracy: 0.4410 - season_accuracy: 0.5983 - usage_accuracy: 0.8690 - val_loss: 4.0284 - val_articleType_loss: 0.8151 - val_gender_loss: 0.2972 - val_baseColour_loss: 1.7664 - val_season_loss: 0.7331 - val_usage_loss: 0.4166 - val_articleType_accuracy: 0.7406 - val_gender_accuracy: 0.9135 - val_baseColour_accuracy: 0.4509 - val_season_accuracy: 0.6265 - val_usage_accuracy: 0.8654\n",
      "1539/1539 [==============================] - 53s 34ms/step - loss: 4.0378 - articleType_loss: 0.8162 - gender_loss: 0.2951 - baseColour_loss: 1.7505 - season_loss: 0.7479 - usage_loss: 0.4281 - articleType_accuracy: 0.7450 - gender_accuracy: 0.9129 - baseColour_accuracy: 0.4594 - season_accuracy: 0.6153 - usage_accuracy: 0.8626\n",
      "INFO:tensorflow:Assets written to: /Users/rijanbhandari/COLLEGE/sixthsem/minorproject/Pahiran/RESTART/model/model_top/assets\n"
     ]
    },
    {
     "name": "stderr",
     "output_type": "stream",
     "text": [
      "INFO:tensorflow:Assets written to: /Users/rijanbhandari/COLLEGE/sixthsem/minorproject/Pahiran/RESTART/model/model_top/assets\n"
     ]
    },
    {
     "name": "stdout",
     "output_type": "stream",
     "text": [
      "Epoch 1/15\n"
     ]
    },
    {
     "name": "stderr",
     "output_type": "stream",
     "text": [
      "/Users/rijanbhandari/COLLEGE/sixthsem/minorproject/Pahiran/environment/lib/python3.10/site-packages/keras/src/backend.py:5727: UserWarning: \"`sparse_categorical_crossentropy` received `from_logits=True`, but the `output` argument was produced by a Softmax activation and thus does not represent logits. Was this intended?\n",
      "  output, from_logits = _get_logits(\n"
     ]
    },
    {
     "name": "stdout",
     "output_type": "stream",
     "text": [
      "50/50 [==============================] - 14s 235ms/step - loss: 14.8451 - articleType_loss: 3.8465 - gender_loss: 2.3366 - baseColour_loss: 3.4422 - season_loss: 2.7565 - usage_loss: 2.4633 - articleType_accuracy: 0.3300 - gender_accuracy: 0.4300 - baseColour_accuracy: 0.1800 - season_accuracy: 0.4800 - usage_accuracy: 0.5600 - val_loss: 8.1330 - val_articleType_loss: 2.2103 - val_gender_loss: 1.2262 - val_baseColour_loss: 2.1012 - val_season_loss: 0.8981 - val_usage_loss: 1.6972 - val_articleType_accuracy: 0.3799 - val_gender_accuracy: 0.5084 - val_baseColour_accuracy: 0.2942 - val_season_accuracy: 0.5940 - val_usage_accuracy: 0.2849\n",
      "Epoch 2/15\n",
      "50/50 [==============================] - 11s 226ms/step - loss: 7.4037 - articleType_loss: 2.1403 - gender_loss: 0.9334 - baseColour_loss: 2.1134 - season_loss: 1.1197 - usage_loss: 1.0968 - articleType_accuracy: 0.3500 - gender_accuracy: 0.6300 - baseColour_accuracy: 0.3300 - season_accuracy: 0.5400 - usage_accuracy: 0.6400 - val_loss: 6.8974 - val_articleType_loss: 2.0279 - val_gender_loss: 0.7754 - val_baseColour_loss: 2.1321 - val_season_loss: 0.9240 - val_usage_loss: 1.0380 - val_articleType_accuracy: 0.4488 - val_gender_accuracy: 0.6816 - val_baseColour_accuracy: 0.2682 - val_season_accuracy: 0.5680 - val_usage_accuracy: 0.6369\n",
      "Epoch 3/15\n",
      "50/50 [==============================] - 13s 254ms/step - loss: 6.7314 - articleType_loss: 1.8729 - gender_loss: 0.8615 - baseColour_loss: 1.9929 - season_loss: 0.9060 - usage_loss: 1.0982 - articleType_accuracy: 0.4000 - gender_accuracy: 0.6400 - baseColour_accuracy: 0.2800 - season_accuracy: 0.5700 - usage_accuracy: 0.5900 - val_loss: 6.1841 - val_articleType_loss: 1.6027 - val_gender_loss: 0.7501 - val_baseColour_loss: 1.9176 - val_season_loss: 1.0271 - val_usage_loss: 0.8866 - val_articleType_accuracy: 0.4655 - val_gender_accuracy: 0.6350 - val_baseColour_accuracy: 0.3706 - val_season_accuracy: 0.5326 - val_usage_accuracy: 0.6723\n",
      "Epoch 4/15\n",
      "50/50 [==============================] - 12s 245ms/step - loss: 6.7654 - articleType_loss: 1.9743 - gender_loss: 0.6010 - baseColour_loss: 2.0840 - season_loss: 1.1339 - usage_loss: 0.9723 - articleType_accuracy: 0.4700 - gender_accuracy: 0.7500 - baseColour_accuracy: 0.3500 - season_accuracy: 0.4600 - usage_accuracy: 0.6300 - val_loss: 7.1360 - val_articleType_loss: 1.9999 - val_gender_loss: 0.9387 - val_baseColour_loss: 2.0178 - val_season_loss: 0.9584 - val_usage_loss: 1.2211 - val_articleType_accuracy: 0.3669 - val_gender_accuracy: 0.6778 - val_baseColour_accuracy: 0.2533 - val_season_accuracy: 0.6071 - val_usage_accuracy: 0.5251\n",
      "Epoch 5/15\n",
      "50/50 [==============================] - 12s 243ms/step - loss: 6.4742 - articleType_loss: 1.7519 - gender_loss: 0.8492 - baseColour_loss: 2.1572 - season_loss: 0.8537 - usage_loss: 0.8623 - articleType_accuracy: 0.5000 - gender_accuracy: 0.6900 - baseColour_accuracy: 0.3000 - season_accuracy: 0.5600 - usage_accuracy: 0.6600 - val_loss: 5.8721 - val_articleType_loss: 1.6101 - val_gender_loss: 0.6496 - val_baseColour_loss: 1.7949 - val_season_loss: 0.9365 - val_usage_loss: 0.8810 - val_articleType_accuracy: 0.5158 - val_gender_accuracy: 0.7542 - val_baseColour_accuracy: 0.4134 - val_season_accuracy: 0.5419 - val_usage_accuracy: 0.6592\n",
      "Epoch 6/15\n",
      "50/50 [==============================] - 12s 240ms/step - loss: 6.3504 - articleType_loss: 1.5155 - gender_loss: 0.7161 - baseColour_loss: 2.0938 - season_loss: 0.9724 - usage_loss: 1.0526 - articleType_accuracy: 0.5700 - gender_accuracy: 0.7200 - baseColour_accuracy: 0.2900 - season_accuracy: 0.5000 - usage_accuracy: 0.6100 - val_loss: 5.9675 - val_articleType_loss: 1.5565 - val_gender_loss: 0.6710 - val_baseColour_loss: 1.8554 - val_season_loss: 0.8985 - val_usage_loss: 0.9861 - val_articleType_accuracy: 0.5345 - val_gender_accuracy: 0.7020 - val_baseColour_accuracy: 0.4097 - val_season_accuracy: 0.6182 - val_usage_accuracy: 0.5475\n",
      "Epoch 7/15\n",
      "50/50 [==============================] - 12s 241ms/step - loss: 6.1319 - articleType_loss: 1.6542 - gender_loss: 0.7673 - baseColour_loss: 1.8607 - season_loss: 1.0114 - usage_loss: 0.8383 - articleType_accuracy: 0.5400 - gender_accuracy: 0.6700 - baseColour_accuracy: 0.4600 - season_accuracy: 0.4900 - usage_accuracy: 0.7100 - val_loss: 6.2529 - val_articleType_loss: 1.6541 - val_gender_loss: 0.6924 - val_baseColour_loss: 2.0659 - val_season_loss: 0.9818 - val_usage_loss: 0.8587 - val_articleType_accuracy: 0.5084 - val_gender_accuracy: 0.7486 - val_baseColour_accuracy: 0.3464 - val_season_accuracy: 0.5680 - val_usage_accuracy: 0.7244\n",
      "Epoch 8/15\n",
      "50/50 [==============================] - 11s 220ms/step - loss: 5.8159 - articleType_loss: 1.6973 - gender_loss: 0.6606 - baseColour_loss: 1.9269 - season_loss: 0.9416 - usage_loss: 0.5895 - articleType_accuracy: 0.4900 - gender_accuracy: 0.7600 - baseColour_accuracy: 0.3200 - season_accuracy: 0.5900 - usage_accuracy: 0.7900 - val_loss: 5.6373 - val_articleType_loss: 1.4899 - val_gender_loss: 0.6045 - val_baseColour_loss: 1.7521 - val_season_loss: 1.0262 - val_usage_loss: 0.7647 - val_articleType_accuracy: 0.5400 - val_gender_accuracy: 0.7281 - val_baseColour_accuracy: 0.4413 - val_season_accuracy: 0.5214 - val_usage_accuracy: 0.7393\n",
      "Epoch 9/15\n",
      "50/50 [==============================] - 11s 224ms/step - loss: 5.6947 - articleType_loss: 1.6540 - gender_loss: 0.5424 - baseColour_loss: 1.7282 - season_loss: 1.0435 - usage_loss: 0.7267 - articleType_accuracy: 0.4900 - gender_accuracy: 0.7500 - baseColour_accuracy: 0.4200 - season_accuracy: 0.5000 - usage_accuracy: 0.7000 - val_loss: 5.7695 - val_articleType_loss: 1.6814 - val_gender_loss: 0.6871 - val_baseColour_loss: 1.8063 - val_season_loss: 0.8412 - val_usage_loss: 0.7536 - val_articleType_accuracy: 0.4525 - val_gender_accuracy: 0.7188 - val_baseColour_accuracy: 0.4562 - val_season_accuracy: 0.6257 - val_usage_accuracy: 0.7151\n",
      "Epoch 10/15\n",
      "50/50 [==============================] - 11s 223ms/step - loss: 5.7936 - articleType_loss: 1.5977 - gender_loss: 0.6520 - baseColour_loss: 1.7568 - season_loss: 0.9125 - usage_loss: 0.8746 - articleType_accuracy: 0.4700 - gender_accuracy: 0.7400 - baseColour_accuracy: 0.4600 - season_accuracy: 0.5700 - usage_accuracy: 0.7500 - val_loss: 5.7863 - val_articleType_loss: 1.6133 - val_gender_loss: 0.7808 - val_baseColour_loss: 1.7428 - val_season_loss: 0.9620 - val_usage_loss: 0.6874 - val_articleType_accuracy: 0.5102 - val_gender_accuracy: 0.6797 - val_baseColour_accuracy: 0.4451 - val_season_accuracy: 0.6257 - val_usage_accuracy: 0.7635\n",
      "Epoch 11/15\n",
      "50/50 [==============================] - 11s 227ms/step - loss: 5.8305 - articleType_loss: 1.6763 - gender_loss: 0.6979 - baseColour_loss: 1.8384 - season_loss: 0.8542 - usage_loss: 0.7636 - articleType_accuracy: 0.4400 - gender_accuracy: 0.7500 - baseColour_accuracy: 0.3800 - season_accuracy: 0.5700 - usage_accuracy: 0.7800 - val_loss: 5.7793 - val_articleType_loss: 1.4640 - val_gender_loss: 0.6843 - val_baseColour_loss: 1.8272 - val_season_loss: 0.9393 - val_usage_loss: 0.8645 - val_articleType_accuracy: 0.5605 - val_gender_accuracy: 0.7449 - val_baseColour_accuracy: 0.4190 - val_season_accuracy: 0.5382 - val_usage_accuracy: 0.7430\n",
      "Epoch 12/15\n",
      "50/50 [==============================] - 12s 239ms/step - loss: 6.2187 - articleType_loss: 1.4506 - gender_loss: 0.6128 - baseColour_loss: 2.0385 - season_loss: 0.9410 - usage_loss: 1.1758 - articleType_accuracy: 0.5000 - gender_accuracy: 0.7500 - baseColour_accuracy: 0.3300 - season_accuracy: 0.6600 - usage_accuracy: 0.5600 - val_loss: 5.5006 - val_articleType_loss: 1.3627 - val_gender_loss: 0.6302 - val_baseColour_loss: 1.8348 - val_season_loss: 0.9561 - val_usage_loss: 0.7167 - val_articleType_accuracy: 0.5568 - val_gender_accuracy: 0.7598 - val_baseColour_accuracy: 0.4078 - val_season_accuracy: 0.5996 - val_usage_accuracy: 0.7169\n",
      "Epoch 13/15\n",
      "50/50 [==============================] - 11s 231ms/step - loss: 5.8333 - articleType_loss: 1.5130 - gender_loss: 0.7295 - baseColour_loss: 1.9390 - season_loss: 0.9454 - usage_loss: 0.7063 - articleType_accuracy: 0.5300 - gender_accuracy: 0.7700 - baseColour_accuracy: 0.4100 - season_accuracy: 0.6200 - usage_accuracy: 0.7000 - val_loss: 6.1676 - val_articleType_loss: 2.0204 - val_gender_loss: 0.6202 - val_baseColour_loss: 1.8273 - val_season_loss: 0.8078 - val_usage_loss: 0.8919 - val_articleType_accuracy: 0.4413 - val_gender_accuracy: 0.7635 - val_baseColour_accuracy: 0.4283 - val_season_accuracy: 0.6369 - val_usage_accuracy: 0.7393\n",
      "Epoch 14/15\n",
      "50/50 [==============================] - 11s 226ms/step - loss: 5.3102 - articleType_loss: 1.3884 - gender_loss: 0.6560 - baseColour_loss: 1.7082 - season_loss: 0.8995 - usage_loss: 0.6582 - articleType_accuracy: 0.5600 - gender_accuracy: 0.7500 - baseColour_accuracy: 0.4900 - season_accuracy: 0.6200 - usage_accuracy: 0.7200 - val_loss: 5.2544 - val_articleType_loss: 1.5067 - val_gender_loss: 0.6208 - val_baseColour_loss: 1.5595 - val_season_loss: 0.8744 - val_usage_loss: 0.6931 - val_articleType_accuracy: 0.4804 - val_gender_accuracy: 0.7672 - val_baseColour_accuracy: 0.4972 - val_season_accuracy: 0.6331 - val_usage_accuracy: 0.7449\n",
      "Epoch 15/15\n",
      "50/50 [==============================] - 12s 237ms/step - loss: 5.7090 - articleType_loss: 1.5282 - gender_loss: 0.6245 - baseColour_loss: 1.8729 - season_loss: 0.8194 - usage_loss: 0.8640 - articleType_accuracy: 0.5300 - gender_accuracy: 0.8000 - baseColour_accuracy: 0.3800 - season_accuracy: 0.6600 - usage_accuracy: 0.6300 - val_loss: 5.5358 - val_articleType_loss: 1.5477 - val_gender_loss: 0.6732 - val_baseColour_loss: 1.7379 - val_season_loss: 0.9047 - val_usage_loss: 0.6722 - val_articleType_accuracy: 0.5419 - val_gender_accuracy: 0.7616 - val_baseColour_accuracy: 0.4115 - val_season_accuracy: 0.5605 - val_usage_accuracy: 0.7598\n",
      "269/269 [==============================] - 10s 36ms/step - loss: 5.6498 - articleType_loss: 1.6093 - gender_loss: 0.6985 - baseColour_loss: 1.6766 - season_loss: 0.9534 - usage_loss: 0.7121 - articleType_accuracy: 0.5326 - gender_accuracy: 0.7449 - baseColour_accuracy: 0.4302 - season_accuracy: 0.5475 - usage_accuracy: 0.7486\n",
      "INFO:tensorflow:Assets written to: /Users/rijanbhandari/COLLEGE/sixthsem/minorproject/Pahiran/RESTART/model/model_bottom/assets\n"
     ]
    },
    {
     "name": "stderr",
     "output_type": "stream",
     "text": [
      "INFO:tensorflow:Assets written to: /Users/rijanbhandari/COLLEGE/sixthsem/minorproject/Pahiran/RESTART/model/model_bottom/assets\n"
     ]
    },
    {
     "name": "stdout",
     "output_type": "stream",
     "text": [
      "Epoch 1/5\n"
     ]
    },
    {
     "name": "stderr",
     "output_type": "stream",
     "text": [
      "/Users/rijanbhandari/COLLEGE/sixthsem/minorproject/Pahiran/environment/lib/python3.10/site-packages/keras/src/backend.py:5727: UserWarning: \"`sparse_categorical_crossentropy` received `from_logits=True`, but the `output` argument was produced by a Softmax activation and thus does not represent logits. Was this intended?\n",
      "  output, from_logits = _get_logits(\n"
     ]
    },
    {
     "name": "stdout",
     "output_type": "stream",
     "text": [
      "2000/2000 [==============================] - 151s 74ms/step - loss: 5.4539 - articleType_loss: 1.2283 - gender_loss: 0.7369 - baseColour_loss: 1.6989 - season_loss: 1.1664 - usage_loss: 0.6234 - articleType_accuracy: 0.5565 - gender_accuracy: 0.7567 - baseColour_accuracy: 0.4787 - season_accuracy: 0.4845 - usage_accuracy: 0.7755 - val_loss: 4.6038 - val_articleType_loss: 1.0845 - val_gender_loss: 0.5617 - val_baseColour_loss: 1.4809 - val_season_loss: 1.0160 - val_usage_loss: 0.4608 - val_articleType_accuracy: 0.6542 - val_gender_accuracy: 0.8227 - val_baseColour_accuracy: 0.5356 - val_season_accuracy: 0.5481 - val_usage_accuracy: 0.8515\n",
      "Epoch 2/5\n",
      " 759/2000 [==========>...................] - ETA: 1:13 - loss: 4.6522 - articleType_loss: 0.9656 - gender_loss: 0.6038 - baseColour_loss: 1.5004 - season_loss: 1.0740 - usage_loss: 0.5084 - articleType_accuracy: 0.6528 - gender_accuracy: 0.7984 - baseColour_accuracy: 0.5613 - season_accuracy: 0.5441 - usage_accuracy: 0.8149WARNING:tensorflow:Your input ran out of data; interrupting training. Make sure that your dataset or generator can generate at least `steps_per_epoch * epochs` batches (in this case, 10000 batches). You may need to use the repeat() function when building your dataset.\n"
     ]
    },
    {
     "name": "stderr",
     "output_type": "stream",
     "text": [
      "WARNING:tensorflow:Your input ran out of data; interrupting training. Make sure that your dataset or generator can generate at least `steps_per_epoch * epochs` batches (in this case, 10000 batches). You may need to use the repeat() function when building your dataset.\n"
     ]
    },
    {
     "name": "stdout",
     "output_type": "stream",
     "text": [
      "2000/2000 [==============================] - 74s 37ms/step - loss: 4.6522 - articleType_loss: 0.9656 - gender_loss: 0.6038 - baseColour_loss: 1.5004 - season_loss: 1.0740 - usage_loss: 0.5084 - articleType_accuracy: 0.6528 - gender_accuracy: 0.7984 - baseColour_accuracy: 0.5613 - season_accuracy: 0.5441 - usage_accuracy: 0.8149 - val_loss: 4.4474 - val_articleType_loss: 0.9450 - val_gender_loss: 0.5693 - val_baseColour_loss: 1.4395 - val_season_loss: 1.0395 - val_usage_loss: 0.4542 - val_articleType_accuracy: 0.6683 - val_gender_accuracy: 0.8119 - val_baseColour_accuracy: 0.5530 - val_season_accuracy: 0.5465 - val_usage_accuracy: 0.8320\n",
      "920/920 [==============================] - 31s 34ms/step - loss: 4.4223 - articleType_loss: 0.9373 - gender_loss: 0.5481 - baseColour_loss: 1.4532 - season_loss: 1.0305 - usage_loss: 0.4531 - articleType_accuracy: 0.6772 - gender_accuracy: 0.8250 - baseColour_accuracy: 0.5571 - season_accuracy: 0.5370 - usage_accuracy: 0.8435\n",
      "INFO:tensorflow:Assets written to: /Users/rijanbhandari/COLLEGE/sixthsem/minorproject/Pahiran/RESTART/model/model_foot/assets\n"
     ]
    },
    {
     "name": "stderr",
     "output_type": "stream",
     "text": [
      "INFO:tensorflow:Assets written to: /Users/rijanbhandari/COLLEGE/sixthsem/minorproject/Pahiran/RESTART/model/model_foot/assets\n"
     ]
    }
   ],
   "source": [
    "\n",
    "\n",
    "\n",
    "\n",
    "\n",
    "foot_train, foot_val, foot_test = make_input_xx(make_input_array_2(foot_df))\n",
    "\n",
    "top_base_model.compile(optimizer='adam',\n",
    "              loss=tf.keras.losses.SparseCategoricalCrossentropy(from_logits=True),\n",
    "              metrics=['accuracy'])\n",
    "bottom_base_model.compile(optimizer='adam',\n",
    "              loss=tf.keras.losses.SparseCategoricalCrossentropy(from_logits=True),\n",
    "              metrics=['accuracy'])\n",
    "foot_base_model.compile(optimizer='adam',\n",
    "              loss=tf.keras.losses.SparseCategoricalCrossentropy(from_logits=True),\n",
    "              metrics=['accuracy'])\n",
    "\n",
    "top_history = top_base_model.fit(top_train, \n",
    "                    epochs=10, \n",
    "                    steps_per_epoch = 500,\n",
    "                    validation_data = top_val)\n",
    "\n",
    "top_base_model.evaluate(top_test)\n",
    "\n",
    "top_base_model.save(\"/Users/rijanbhandari/COLLEGE/sixthsem/minorproject/Pahiran/RESTART/model/model_top\")\n",
    "\n",
    "\n",
    "\n",
    "bottom_history = bottom_base_model.fit(bottom_train, \n",
    "                    epochs=15, \n",
    "                    steps_per_epoch = 50,\n",
    "                    validation_data = bottom_val)\n",
    "\n",
    "bottom_base_model.evaluate(bottom_test)\n",
    "\n",
    "bottom_base_model.save(\"/Users/rijanbhandari/COLLEGE/sixthsem/minorproject/Pahiran/RESTART/model/model_bottom\")\n",
    "\n",
    "\n",
    "\n",
    "foot_history = foot_base_model.fit(foot_train, \n",
    "                    epochs=5, \n",
    "                    steps_per_epoch = 2000,\n",
    "                    validation_data = foot_val)\n",
    "\n",
    "foot_base_model.evaluate(foot_test)\n",
    "\n",
    "foot_base_model.save(\"/Users/rijanbhandari/COLLEGE/sixthsem/minorproject/Pahiran/RESTART/model/model_foot\")\n"
   ]
  }
 ],
 "metadata": {
  "kernelspec": {
   "display_name": "Python 3 (ipykernel)",
   "language": "python",
   "name": "python3"
  },
  "language_info": {
   "codemirror_mode": {
    "name": "ipython",
    "version": 3
   },
   "file_extension": ".py",
   "mimetype": "text/x-python",
   "name": "python",
   "nbconvert_exporter": "python",
   "pygments_lexer": "ipython3",
   "version": "3.10.1"
  }
 },
 "nbformat": 4,
 "nbformat_minor": 2
}
